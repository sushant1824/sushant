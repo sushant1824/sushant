{
  "nbformat": 4,
  "nbformat_minor": 0,
  "metadata": {
    "colab": {
      "name": "resume%matches.ipynb",
      "provenance": [],
      "collapsed_sections": []
    },
    "kernelspec": {
      "name": "python3",
      "display_name": "Python 3"
    },
    "language_info": {
      "name": "python"
    }
  },
  "cells": [
    {
      "cell_type": "code",
      "metadata": {
        "colab": {
          "base_uri": "https://localhost:8080/"
        },
        "id": "YSMLaszOhr-B",
        "outputId": "9b8ff44b-9ddb-4694-aea0-876423cc6690"
      },
      "source": [
        "!pip install docx2txt\n",
        "import docx2txt"
      ],
      "execution_count": null,
      "outputs": [
        {
          "output_type": "stream",
          "name": "stdout",
          "text": [
            "Requirement already satisfied: docx2txt in /usr/local/lib/python3.7/dist-packages (0.8)\n"
          ]
        }
      ]
    },
    {
      "cell_type": "code",
      "metadata": {
        "id": "8eAril5ViHyc"
      },
      "source": [
        "job_description =docx2txt.process('/content/Alice Clark CV.docx')\n",
        "resume=docx2txt.process('/content/Smith Resume.docx')"
      ],
      "execution_count": null,
      "outputs": []
    },
    {
      "cell_type": "code",
      "metadata": {
        "colab": {
          "base_uri": "https://localhost:8080/"
        },
        "id": "wLGEMmUdislI",
        "outputId": "61d833b0-ebc4-4f6f-e55b-6925d0c34990"
      },
      "source": [
        "print(resume)"
      ],
      "execution_count": null,
      "outputs": [
        {
          "output_type": "stream",
          "name": "stdout",
          "text": [
            "Michael Smith\n",
            "\n",
            "BI / Big Data/ Azure\n",
            "\n",
            "Manchester, UK- Email me on Indeed: indeed.com/r/falicent/140749dace5dc26f\n",
            "\n",
            "\n",
            "\n",
            "10+ years of Experience in Designing, Development, Administration, Analysis, Management inthe Business Intelligence Data warehousing, Client Server Technologies, Web-based Applications, cloud solutions and Databases.\n",
            "\n",
            "Data warehouse: Data analysis, star/ snow flake schema data modeling and design specific todata warehousing and business intelligence environment.\n",
            "\n",
            "Database: Experience in database designing, scalability, back-up and recovery, writing andoptimizing SQL code and Stored Procedures, creating functions, views, triggers and indexes. \n",
            "\n",
            "Cloud platform: Worked on Microsoft Azure cloud services like Document DB, SQL Azure, StreamAnalytics, Event hub, Power BI, Web Job, Web App, Power BI, Azure data lake analytics(U-SQL).\n",
            "\n",
            "Big Data: Worked Azure data lake store/analytics for big data processing and Azure data factoryto schedule U-SQL jobs. Designed and developed end to end big data solution for data insights. \n",
            "\n",
            "\n",
            "\n",
            "Willing to relocate: Anywhere\n",
            "\n",
            "WORK EXPERIENCESoftware Engineer\n",
            "\n",
            "Microsoft - Manchester, UK.\n",
            "\n",
            "December 2015 to Present\n",
            "\n",
            "1. Microsoft Rewards Live dashboards:\n",
            "\n",
            "Description: - Microsoft rewards is loyalty program that rewards Users for browsing and shopping online. Microsoft Rewards members can earn points when searching with Bing, browsing with Microsoft Edge and making purchases at the Xbox Store, the Windows Store and the Microsoft Store. Plus, user can pick up bonus points for taking daily quizzes and tours on the Microsoft rewards website. Rewards live dashboards gives a live picture of usage world-wide and by markets like US, Canada, Australia, new user registration count, top/bottom performing rewards offers, orders stats and weekly trends of user activities, orders and new user registrations. the PBI tiles gets refreshed in different frequencies starting from 5 seconds to 30 minutes.\n",
            "\n",
            "Technology/Tools used\n",
            "\n",
            "Event hub, stream analytics and Power BI.\n",
            "\n",
            "Responsibilities\n",
            "\n",
            "Created stream analytics jobs to process event hub data\n",
            "\n",
            "Created Power BI live dashboard to show live usage traffic, weekly trends, cards, charts to showtop/bottom 10 offers and usage metrics.\n",
            "\n",
            "2. Microsoft Rewards Data Insights:\n",
            "\n",
            "Description: - Microsoft rewards is loyalty program that rewards Users for browsing and shopping online. Microsoft Rewards members can earn points when searching with Bing, browsing with Microsoft Edge and making purchases at the Xbox Store, the Windows Store and the Microsoft Store. Plus, user can pick up bonus points for taking daily quizzes and tours on the Microsoft rewards website. Rewards data insights is data analytics and reporting platform, processes 20 million users daily activities and redemption across different markets like US, Canada, Australia.\n",
            "\n",
            "Technology/Tools used\n",
            "\n",
            "Cosmos (Microsoft big-data platform), c#, X-flow job monitoring, Power BI.\n",
            "\n",
            "Responsibilities\n",
            "\n",
            "Created big data scripts in cosmos\n",
            "\n",
            "C# data extractors, processors and reducers for data transformation\n",
            "\n",
            "Power BI dashboards\n",
            "\n",
            "3. End to end tracking Tool:\n",
            "\n",
            "Description: - This is real-time Tracking tool to track different business transactions like order, order response, functional acknowledgement, invoice flowing inside ICOE. It gives flexibility to customers to track their transactions and appropriate error information in-case of any failure. Based on resource based access control the tool gives flexibility to end user to perform different actions like view transactions, search based on different filter criteria and view and download actual message payload. End to end tracking tool stitches all the business transaction like order to cash flow and connects different hops inside ICOE like gateway, routing server, Processing server. It also connects different systems like ICOE, partner end point and SAP.\n",
            "\n",
            "Technology/Tools used\n",
            "\n",
            "Azure Document db, Azure web job and Web APP, RBAC, Angular JS.\n",
            "\n",
            "Responsibilities\n",
            "\n",
            "Document dB stored procedures.\n",
            "\n",
            "Web job to process event hub data and populate Document db• Web App API.\n",
            "\n",
            "Stream analytics job to transform data\n",
            "\n",
            "Power BI reports\n",
            "\n",
            "4. Biztrack Tracking Tool:\n",
            "\n",
            "Description: - This is real-time Tracking tool to track different business transactions like order, order response, functional acknowledgement, invoice flowing inside ICOE. It gives flexibility to customers to track their transactions and appropriate error information in-case of any failure. Based on resource based access control the tool gives flexibility to end user to perform different actions like view transactions, search based on different filter criteria and view and download actual message payload.\n",
            "\n",
            "Technology/Tools used\n",
            "\n",
            "SQL server 2014, SSIS, .net API, Angular JS.\n",
            "\n",
            "Responsibilities\n",
            "\n",
            "ETL solution to transform business transactions data stored in Biztalk tables.\n",
            "\n",
            "SQL azure tables, stored procedures, User defined functions.\n",
            "\n",
            "Performance tuning.\n",
            "\n",
            "Web API enhancements.\n",
            "\n",
            "\n",
            "\n",
            "EDUCATION\n",
            "\n",
            "The University of Manchester - UK\n",
            "\n",
            "2007\n",
            "\n",
            "\n",
            "\n",
            "SKILLS\n",
            "\n",
            "problem solving (Less than 1 year), project lifecycle (Less than 1 year), project manager (Less than 1 year), technical assistance. (Less than 1 year)\n",
            "\n",
            "ADDITIONAL INFORMATION\n",
            "\n",
            "Professional Skills\n",
            "\n",
            "Excellent analytical, problem solving, communication, knowledge transfer and interpersonalskills with ability to interact with individuals at all the levels\n",
            "\n",
            "Quick learner and maintains cordial relationship with project manager and team members andgood performer both in team and independent job environments\n",
            "\n",
            "Positive attitude towards superiors &amp; peers\n",
            "\n",
            "Supervised junior developers throughout project lifecycle and provided technical assistance.\n"
          ]
        }
      ]
    },
    {
      "cell_type": "code",
      "metadata": {
        "id": "3dGtMHn0jQqw"
      },
      "source": [
        "content=[job_description,resume]"
      ],
      "execution_count": null,
      "outputs": []
    },
    {
      "cell_type": "code",
      "metadata": {
        "id": "rCmMGGQfjfYt"
      },
      "source": [
        "from sklearn.feature_extraction.text import CountVectorizer\n",
        "cv=CountVectorizer()\n",
        "matrix=cv.fit_transform(content)"
      ],
      "execution_count": null,
      "outputs": []
    },
    {
      "cell_type": "code",
      "metadata": {
        "id": "hbTOe_9Hj8lz"
      },
      "source": [
        "from sklearn.metrics.pairwise import cosine_similarity\n",
        "similarity_matrix=cosine_similarity(matrix)"
      ],
      "execution_count": null,
      "outputs": []
    },
    {
      "cell_type": "code",
      "metadata": {
        "colab": {
          "base_uri": "https://localhost:8080/"
        },
        "id": "HbdzTNYDkVaD",
        "outputId": "585b04c6-1bd0-4f1b-eef8-f6c86b25043f"
      },
      "source": [
        "print(similarity_matrix)"
      ],
      "execution_count": null,
      "outputs": [
        {
          "output_type": "stream",
          "name": "stdout",
          "text": [
            "[[1.         0.85146381]\n",
            " [0.85146381 1.        ]]\n"
          ]
        }
      ]
    },
    {
      "cell_type": "code",
      "metadata": {
        "colab": {
          "base_uri": "https://localhost:8080/"
        },
        "id": "XmdVuwl5kXZM",
        "outputId": "527a9861-3d5a-481f-d9f0-c580704c86a2"
      },
      "source": [
        "print('Resume Matches By :' +str(similarity_matrix[1][0]))"
      ],
      "execution_count": null,
      "outputs": [
        {
          "output_type": "stream",
          "name": "stdout",
          "text": [
            "Resume Matches By :0.8514638096460458\n"
          ]
        }
      ]
    },
    {
      "cell_type": "code",
      "metadata": {
        "id": "CNlOy5ZvklXg"
      },
      "source": [
        ""
      ],
      "execution_count": null,
      "outputs": []
    }
  ]
}